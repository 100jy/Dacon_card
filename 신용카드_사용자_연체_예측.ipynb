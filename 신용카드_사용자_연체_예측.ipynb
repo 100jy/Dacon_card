{
  "nbformat": 4,
  "nbformat_minor": 0,
  "metadata": {
    "colab": {
      "name": "신용카드 사용자 연체 예측.ipynb",
      "provenance": [],
      "authorship_tag": "ABX9TyP+S2Aatb7Zqugr0ps+r1p6",
      "include_colab_link": true
    },
    "kernelspec": {
      "name": "python3",
      "display_name": "Python 3"
    },
    "language_info": {
      "name": "python"
    }
  },
  "cells": [
    {
      "cell_type": "markdown",
      "metadata": {
        "id": "view-in-github",
        "colab_type": "text"
      },
      "source": [
        "<a href=\"https://colab.research.google.com/github/100jy/Dacon_card/blob/main/%EC%8B%A0%EC%9A%A9%EC%B9%B4%EB%93%9C_%EC%82%AC%EC%9A%A9%EC%9E%90_%EC%97%B0%EC%B2%B4_%EC%98%88%EC%B8%A1.ipynb\" target=\"_parent\"><img src=\"https://colab.research.google.com/assets/colab-badge.svg\" alt=\"Open In Colab\"/></a>"
      ]
    },
    {
      "cell_type": "code",
      "metadata": {
        "colab": {
          "base_uri": "https://localhost:8080/"
        },
        "id": "YQ3MjnUahtbd",
        "outputId": "b265e114-c181-4208-942d-34fb35b936bf"
      },
      "source": [
        "from google.colab import drive\n",
        "drive.mount('/content/drive')"
      ],
      "execution_count": 2,
      "outputs": [
        {
          "output_type": "stream",
          "text": [
            "Mounted at /content/drive\n"
          ],
          "name": "stdout"
        }
      ]
    },
    {
      "cell_type": "code",
      "metadata": {
        "id": "VC7PVW-7hhnL"
      },
      "source": [
        "import numpy as np\n",
        "import pandas as pd\n",
        "import os\n",
        "os.chdir('/content/drive/MyDrive/데이콘')"
      ],
      "execution_count": 3,
      "outputs": []
    },
    {
      "cell_type": "code",
      "metadata": {
        "id": "O70eUmuxh-BM"
      },
      "source": [
        "train = pd.read_csv('train.csv', index_col=0)\n",
        "train = train.fillna('NA')"
      ],
      "execution_count": 39,
      "outputs": []
    },
    {
      "cell_type": "markdown",
      "metadata": {
        "id": "6iDEg-CmigY7"
      },
      "source": [
        "# 변수확인"
      ]
    },
    {
      "cell_type": "code",
      "metadata": {
        "id": "S4FB-32eiZB0"
      },
      "source": [
        "import matplotlib.pyplot as plt\n",
        "import seaborn as sns\n",
        "\n",
        "for i in range(train.shape[1]):\n",
        "  plt.figure()\n",
        "  try:\n",
        "    sns.kdeplot(train[:,i])\n",
        "  except:\n",
        "    plt.hist(train[:,i])\n",
        "  plt.title(train.columns[i])"
      ],
      "execution_count": null,
      "outputs": []
    },
    {
      "cell_type": "markdown",
      "metadata": {
        "id": "Xn_UKyPEiidr"
      },
      "source": [
        "# 전처리"
      ]
    },
    {
      "cell_type": "code",
      "metadata": {
        "colab": {
          "base_uri": "https://localhost:8080/"
        },
        "id": "FaqxllDckwSL",
        "outputId": "3cd15242-a70f-4477-ed78-2123eb93c2a9"
      },
      "source": [
        "train"
      ],
      "execution_count": 36,
      "outputs": [
        {
          "output_type": "execute_result",
          "data": {
            "text/plain": [
              "index\n",
              "0        -6.0\n",
              "1        -5.0\n",
              "2       -22.0\n",
              "3       -37.0\n",
              "4       -26.0\n",
              "         ... \n",
              "26452    -2.0\n",
              "26453   -47.0\n",
              "26454   -25.0\n",
              "26455   -59.0\n",
              "26456    -9.0\n",
              "Name: begin_month, Length: 26457, dtype: float64"
            ]
          },
          "metadata": {
            "tags": []
          },
          "execution_count": 36
        }
      ]
    },
    {
      "cell_type": "code",
      "metadata": {
        "id": "VPOdTKhukEwk"
      },
      "source": [
        "# 범주형 인코딩\n",
        "from sklearn.preprocessing import LabelEncoder, MinMaxScaler, OneHotEncoder\n",
        "\n",
        "train = pd.read_csv('train.csv', index_col=0)\n",
        "train = train.fillna('NA')\n",
        "\n",
        "sub = pd.read_csv('sample_submission.csv', index_col=0)\n",
        "test  = pd.read_csv('test.csv', index_col=0)\n",
        "test = test.fillna('NA')\n",
        "\n",
        "for cate in ['gender', 'car', 'reality', 'income_type',\n",
        "       'edu_type', 'family_type', 'house_type', \n",
        "     'occyp_type',\n",
        "     'family_size', 'begin_month']:\n",
        "  inco = LabelEncoder() \n",
        "  inco.fit(train[cate])\n",
        "  train[cate] = inco.transform(train[cate])\n",
        "  test[cate] = inco.transform(test[cate])\n",
        "\n",
        "\n",
        "X = train.iloc[:,:-1]\n",
        "Y = train.iloc[:,[-1]].values\n",
        "\n",
        "# 모든 변수 minmax\n",
        "scaler  = MinMaxScaler()\n",
        "scaler.fit(X)\n",
        "X = scaler.transform(X)\n",
        "test = scaler.transform(test)"
      ],
      "execution_count": 86,
      "outputs": []
    },
    {
      "cell_type": "markdown",
      "metadata": {
        "id": "Fpcri0rUikid"
      },
      "source": [
        "# 모델링"
      ]
    },
    {
      "cell_type": "code",
      "metadata": {
        "colab": {
          "base_uri": "https://localhost:8080/"
        },
        "id": "J_eFXHMbrtDi",
        "outputId": "3ea6e63d-bdeb-4d3a-feb2-96c7216f4813"
      },
      "source": [
        "from sklearn.metrics import log_loss, f1_score\n",
        "from sklearn.ensemble import RandomForestClassifier\n",
        "from sklearn.model_selection import StratifiedKFold, train_test_split\n",
        "from keras.utils import to_categorical\n",
        "\n",
        "\n",
        "# StratifiedKfold(3)\n",
        "# train val subsampling하여 여러 모델 피팅 후 앙상블\n",
        "fold = StratifiedKFold(n_splits=3, shuffle=True, random_state=0)\n",
        "total = 0\n",
        "re = np.zeros_like(sub.values, dtype=np.float32)\n",
        "\n",
        "for train_idx, val_idx in fold.split(X, Y):\n",
        "    train_x, val_x, train_y, val_y =  X[train_idx], X[val_idx],\\\n",
        "                                      Y[train_idx], Y[val_idx]\n",
        "    # 랜포\n",
        "    clf = RandomForestClassifier()\n",
        "    clf.fit(train_x, train_y)\n",
        "    prob = clf.predict_proba(val_x)\n",
        "    loss = log_loss(to_categorical(val_y), prob)\n",
        "    re += clf.predict_proba(test)\n",
        "    total += loss\n",
        "    print('val_loss : {:.3f}'.format(loss))\n",
        "\n",
        "print('mean_loss : {:.3f}'.format(total/3))"
      ],
      "execution_count": 92,
      "outputs": [
        {
          "output_type": "stream",
          "text": [
            "/usr/local/lib/python3.7/dist-packages/ipykernel_launcher.py:17: DataConversionWarning: A column-vector y was passed when a 1d array was expected. Please change the shape of y to (n_samples,), for example using ravel().\n"
          ],
          "name": "stderr"
        },
        {
          "output_type": "stream",
          "text": [
            "val_loss : 0.895\n"
          ],
          "name": "stdout"
        },
        {
          "output_type": "stream",
          "text": [
            "/usr/local/lib/python3.7/dist-packages/ipykernel_launcher.py:17: DataConversionWarning: A column-vector y was passed when a 1d array was expected. Please change the shape of y to (n_samples,), for example using ravel().\n"
          ],
          "name": "stderr"
        },
        {
          "output_type": "stream",
          "text": [
            "val_loss : 0.893\n"
          ],
          "name": "stdout"
        },
        {
          "output_type": "stream",
          "text": [
            "/usr/local/lib/python3.7/dist-packages/ipykernel_launcher.py:17: DataConversionWarning: A column-vector y was passed when a 1d array was expected. Please change the shape of y to (n_samples,), for example using ravel().\n"
          ],
          "name": "stderr"
        },
        {
          "output_type": "stream",
          "text": [
            "val_loss : 0.920\n",
            "mean_loss : 0.903\n"
          ],
          "name": "stdout"
        }
      ]
    },
    {
      "cell_type": "code",
      "metadata": {
        "id": "R_HWiLyovW5e"
      },
      "source": [
        "sub.iloc[:,:] = re / 3"
      ],
      "execution_count": 93,
      "outputs": []
    },
    {
      "cell_type": "code",
      "metadata": {
        "id": "-Ak3G5JExZVs"
      },
      "source": [
        "sub.to_csv('baseline_submission.csv', index=False)"
      ],
      "execution_count": 95,
      "outputs": []
    }
  ]
}