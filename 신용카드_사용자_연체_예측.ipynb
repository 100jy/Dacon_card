{
  "nbformat": 4,
  "nbformat_minor": 0,
  "metadata": {
    "colab": {
      "name": "신용카드 사용자 연체 예측.ipynb",
      "provenance": [],
      "authorship_tag": "ABX9TyNhtWo9MfGJ9vWRz6C6XYfP",
      "include_colab_link": true
    },
    "kernelspec": {
      "name": "python3",
      "display_name": "Python 3"
    },
    "language_info": {
      "name": "python"
    }
  },
  "cells": [
    {
      "cell_type": "markdown",
      "metadata": {
        "id": "view-in-github",
        "colab_type": "text"
      },
      "source": [
        "<a href=\"https://colab.research.google.com/github/100jy/Dacon_card/blob/main/%EC%8B%A0%EC%9A%A9%EC%B9%B4%EB%93%9C_%EC%82%AC%EC%9A%A9%EC%9E%90_%EC%97%B0%EC%B2%B4_%EC%98%88%EC%B8%A1.ipynb\" target=\"_parent\"><img src=\"https://colab.research.google.com/assets/colab-badge.svg\" alt=\"Open In Colab\"/></a>"
      ]
    },
    {
      "cell_type": "code",
      "metadata": {
        "colab": {
          "base_uri": "https://localhost:8080/"
        },
        "id": "YQ3MjnUahtbd",
        "outputId": "43dcd8af-f151-4447-c595-90d5627bb345"
      },
      "source": [
        "from google.colab import drive\n",
        "drive.mount('/content/drive')"
      ],
      "execution_count": 2,
      "outputs": [
        {
          "output_type": "stream",
          "text": [
            "Drive already mounted at /content/drive; to attempt to forcibly remount, call drive.mount(\"/content/drive\", force_remount=True).\n"
          ],
          "name": "stdout"
        }
      ]
    },
    {
      "cell_type": "code",
      "metadata": {
        "id": "VC7PVW-7hhnL"
      },
      "source": [
        "import numpy as np\n",
        "import pandas as pd\n",
        "import os\n",
        "os.chdir('/content/drive/MyDrive/데이콘')"
      ],
      "execution_count": 3,
      "outputs": []
    },
    {
      "cell_type": "code",
      "metadata": {
        "id": "O70eUmuxh-BM"
      },
      "source": [
        "train = pd.read_csv('train.csv', index_col=0)\n",
        "train = train.fillna('NA')"
      ],
      "execution_count": 4,
      "outputs": []
    },
    {
      "cell_type": "markdown",
      "metadata": {
        "id": "6iDEg-CmigY7"
      },
      "source": [
        "# 변수확인"
      ]
    },
    {
      "cell_type": "code",
      "metadata": {
        "id": "S4FB-32eiZB0"
      },
      "source": [
        "import matplotlib.pyplot as plt\n",
        "import seaborn as sns\n",
        "\n",
        "for i in range(train.shape[1]):\n",
        "  plt.figure()\n",
        "  try:\n",
        "    sns.kdeplot(train.iloc[:,i])\n",
        "  except:\n",
        "    plt.hist(train.iloc[:,i])\n",
        "  plt.title(train.columns[i])"
      ],
      "execution_count": null,
      "outputs": []
    },
    {
      "cell_type": "markdown",
      "metadata": {
        "id": "Xn_UKyPEiidr"
      },
      "source": [
        "# 전처리"
      ]
    },
    {
      "cell_type": "code",
      "metadata": {
        "id": "VPOdTKhukEwk"
      },
      "source": [
        "# 범주형 인코딩\n",
        "from sklearn.preprocessing import LabelEncoder, MinMaxScaler, OneHotEncoder\n",
        "\n",
        "train = pd.read_csv('train.csv', index_col=0)\n",
        "train = train.fillna('NA')\n",
        "\n",
        "sub = pd.read_csv('sample_submission.csv')\n",
        "test  = pd.read_csv('test.csv', index_col=0)\n",
        "test = test.fillna('NA')\n",
        "\n",
        "for cate in ['gender', 'car', 'reality', 'income_type',\n",
        "       'edu_type', 'family_type', 'house_type', \n",
        "     'occyp_type',\n",
        "     'family_size', 'begin_month']:\n",
        "  inco = LabelEncoder() \n",
        "  inco.fit(train[cate])\n",
        "  train[cate] = inco.transform(train[cate])\n",
        "  test[cate] = inco.transform(test[cate])\n",
        "\n",
        "\n",
        "X = train.iloc[:,:-1]\n",
        "Y = train.iloc[:,[-1]].values\n",
        "Y = Y.ravel()\n",
        "\n",
        "# 모든 변수 minmax\n",
        "scaler  = MinMaxScaler()\n",
        "scaler.fit(X)\n",
        "X = scaler.transform(X)\n",
        "test = scaler.transform(test)"
      ],
      "execution_count": 7,
      "outputs": []
    },
    {
      "cell_type": "markdown",
      "metadata": {
        "id": "TxebKjYv0D4W"
      },
      "source": [
        "# grid search"
      ]
    },
    {
      "cell_type": "code",
      "metadata": {
        "id": "TPGGPXdH0DjY"
      },
      "source": [
        "from sklearn.model_selection import GridSearchCV\n",
        "from sklearn.ensemble import RandomForestClassifier\n",
        "from sklearn.model_selection import StratifiedKFold, train_test_split\n",
        "\n",
        "# 오히려 과적합 된는데??????\n",
        "# min_samples_split 작을 수록 max_depth 높을 수록 과적합 되기 쉬움\n",
        "paras = {'n_estimators' : [10],\n",
        "         'max_depth' : [12],\n",
        "         'min_samples_split' : [8],\n",
        "         'min_samples_leaf' : [8],\n",
        "         }\n",
        "\n",
        "clf = RandomForestClassifier()\n",
        "cv = GridSearchCV(clf, param_grid=paras, cv=3)\n",
        "cv.fit(X, Y)"
      ],
      "execution_count": null,
      "outputs": []
    },
    {
      "cell_type": "code",
      "metadata": {
        "id": "4IGOhfPv3b_D",
        "outputId": "59c5d453-5c8f-4dc1-99fa-f44fdf9b1448",
        "colab": {
          "base_uri": "https://localhost:8080/"
        }
      },
      "source": [
        "print('최적 파라미터 : {}'.format(cv.best_params_))\n",
        "print('최적 점수 : {}'.format(cv.best_score_))"
      ],
      "execution_count": 15,
      "outputs": [
        {
          "output_type": "stream",
          "text": [
            "최적 파라미터 : {'max_depth': 18, 'min_samples_leaf': 2, 'min_samples_split': 8, 'n_estimators': 10}\n",
            "최적 점수 : 0.7017046528328986\n"
          ],
          "name": "stdout"
        }
      ]
    },
    {
      "cell_type": "markdown",
      "metadata": {
        "id": "Fpcri0rUikid"
      },
      "source": [
        "# 모델링"
      ]
    },
    {
      "cell_type": "code",
      "metadata": {
        "colab": {
          "base_uri": "https://localhost:8080/"
        },
        "id": "J_eFXHMbrtDi",
        "outputId": "abbce638-68f2-45dd-b2f0-dddaf36fa8a0"
      },
      "source": [
        "from sklearn.metrics import log_loss, f1_score\n",
        "from keras.utils import to_categorical\n",
        "\n",
        "\n",
        "# StratifiedKfold(3)\n",
        "# train val subsampling하여 여러 모델 피팅 후 앙상블\n",
        "fold = StratifiedKFold(n_splits=5, shuffle=True, random_state=0)\n",
        "total = 0\n",
        "re = np.zeros_like(sub.iloc[:,1:].values, dtype=np.float32)\n",
        "\n",
        "for train_idx, val_idx in fold.split(X, Y):\n",
        "    train_x, val_x, train_y, val_y =  X[train_idx], X[val_idx],\\\n",
        "                                      Y[train_idx], Y[val_idx]\n",
        "    # 랜포\n",
        "    clf = RandomForestClassifier(**cv.best_params_)\n",
        "    clf.fit(train_x, train_y)\n",
        "    prob = clf.predict_proba(val_x)\n",
        "    loss = log_loss(to_categorical(val_y), prob)\n",
        "    re += clf.predict_proba(test)\n",
        "    total += loss\n",
        "    print('val_loss : {:.3f}'.format(loss))\n",
        "\n",
        "print('mean_loss : {:.3f}'.format(total/5))"
      ],
      "execution_count": 20,
      "outputs": [
        {
          "output_type": "stream",
          "text": [
            "val_loss : 0.786\n",
            "val_loss : 0.784\n",
            "val_loss : 0.779\n",
            "val_loss : 0.789\n",
            "val_loss : 0.778\n",
            "mean_loss : 0.783\n"
          ],
          "name": "stdout"
        }
      ]
    },
    {
      "cell_type": "code",
      "metadata": {
        "id": "R_HWiLyovW5e"
      },
      "source": [
        "sub.iloc[:,1:] = re / 5"
      ],
      "execution_count": 21,
      "outputs": []
    },
    {
      "cell_type": "code",
      "metadata": {
        "id": "-Ak3G5JExZVs"
      },
      "source": [
        "sub.to_csv('baseline_submission.csv', index=False)"
      ],
      "execution_count": 22,
      "outputs": []
    },
    {
      "cell_type": "code",
      "metadata": {
        "id": "RR_G0ELgye-S",
        "outputId": "572e1ba9-7da4-467e-8530-24a9fbc88339",
        "colab": {
          "base_uri": "https://localhost:8080/",
          "height": 402
        }
      },
      "source": [
        "sub"
      ],
      "execution_count": 23,
      "outputs": [
        {
          "output_type": "execute_result",
          "data": {
            "text/html": [
              "<div>\n",
              "<style scoped>\n",
              "    .dataframe tbody tr th:only-of-type {\n",
              "        vertical-align: middle;\n",
              "    }\n",
              "\n",
              "    .dataframe tbody tr th {\n",
              "        vertical-align: top;\n",
              "    }\n",
              "\n",
              "    .dataframe thead th {\n",
              "        text-align: right;\n",
              "    }\n",
              "</style>\n",
              "<table border=\"1\" class=\"dataframe\">\n",
              "  <thead>\n",
              "    <tr style=\"text-align: right;\">\n",
              "      <th></th>\n",
              "      <th>index</th>\n",
              "      <th>0</th>\n",
              "      <th>1</th>\n",
              "      <th>2</th>\n",
              "    </tr>\n",
              "  </thead>\n",
              "  <tbody>\n",
              "    <tr>\n",
              "      <th>0</th>\n",
              "      <td>26457</td>\n",
              "      <td>0.103628</td>\n",
              "      <td>0.152585</td>\n",
              "      <td>0.743787</td>\n",
              "    </tr>\n",
              "    <tr>\n",
              "      <th>1</th>\n",
              "      <td>26458</td>\n",
              "      <td>0.153958</td>\n",
              "      <td>0.180243</td>\n",
              "      <td>0.665800</td>\n",
              "    </tr>\n",
              "    <tr>\n",
              "      <th>2</th>\n",
              "      <td>26459</td>\n",
              "      <td>0.093266</td>\n",
              "      <td>0.155461</td>\n",
              "      <td>0.751273</td>\n",
              "    </tr>\n",
              "    <tr>\n",
              "      <th>3</th>\n",
              "      <td>26460</td>\n",
              "      <td>0.138642</td>\n",
              "      <td>0.155834</td>\n",
              "      <td>0.705524</td>\n",
              "    </tr>\n",
              "    <tr>\n",
              "      <th>4</th>\n",
              "      <td>26461</td>\n",
              "      <td>0.128066</td>\n",
              "      <td>0.190785</td>\n",
              "      <td>0.681149</td>\n",
              "    </tr>\n",
              "    <tr>\n",
              "      <th>...</th>\n",
              "      <td>...</td>\n",
              "      <td>...</td>\n",
              "      <td>...</td>\n",
              "      <td>...</td>\n",
              "    </tr>\n",
              "    <tr>\n",
              "      <th>9995</th>\n",
              "      <td>36452</td>\n",
              "      <td>0.099212</td>\n",
              "      <td>0.208711</td>\n",
              "      <td>0.692077</td>\n",
              "    </tr>\n",
              "    <tr>\n",
              "      <th>9996</th>\n",
              "      <td>36453</td>\n",
              "      <td>0.111511</td>\n",
              "      <td>0.229944</td>\n",
              "      <td>0.658545</td>\n",
              "    </tr>\n",
              "    <tr>\n",
              "      <th>9997</th>\n",
              "      <td>36454</td>\n",
              "      <td>0.082081</td>\n",
              "      <td>0.156835</td>\n",
              "      <td>0.761083</td>\n",
              "    </tr>\n",
              "    <tr>\n",
              "      <th>9998</th>\n",
              "      <td>36455</td>\n",
              "      <td>0.115176</td>\n",
              "      <td>0.186276</td>\n",
              "      <td>0.698548</td>\n",
              "    </tr>\n",
              "    <tr>\n",
              "      <th>9999</th>\n",
              "      <td>36456</td>\n",
              "      <td>0.117896</td>\n",
              "      <td>0.260380</td>\n",
              "      <td>0.621724</td>\n",
              "    </tr>\n",
              "  </tbody>\n",
              "</table>\n",
              "<p>10000 rows × 4 columns</p>\n",
              "</div>"
            ],
            "text/plain": [
              "      index         0         1         2\n",
              "0     26457  0.103628  0.152585  0.743787\n",
              "1     26458  0.153958  0.180243  0.665800\n",
              "2     26459  0.093266  0.155461  0.751273\n",
              "3     26460  0.138642  0.155834  0.705524\n",
              "4     26461  0.128066  0.190785  0.681149\n",
              "...     ...       ...       ...       ...\n",
              "9995  36452  0.099212  0.208711  0.692077\n",
              "9996  36453  0.111511  0.229944  0.658545\n",
              "9997  36454  0.082081  0.156835  0.761083\n",
              "9998  36455  0.115176  0.186276  0.698548\n",
              "9999  36456  0.117896  0.260380  0.621724\n",
              "\n",
              "[10000 rows x 4 columns]"
            ]
          },
          "metadata": {
            "tags": []
          },
          "execution_count": 23
        }
      ]
    }
  ]
}